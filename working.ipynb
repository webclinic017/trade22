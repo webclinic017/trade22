{
 "cells": [
  {
   "cell_type": "code",
   "execution_count": 30,
   "metadata": {
    "collapsed": true
   },
   "outputs": [],
   "source": [
    "import pandas as pd\n",
    "import iso8601\n",
    "import pytz\n",
    "from datetime import datetime, timedelta\n",
    "from time import sleep\n",
    "\n",
    "from alpaca.trading.client import TradingClient\n",
    "from alpaca.trading.requests import MarketOrderRequest, GetOrdersRequest, GetOrderByIdRequest\n",
    "from alpaca.trading.enums import OrderSide, OrderStatus, TimeInForce\n",
    "from alpaca.data.timeframe import TimeFrame\n",
    "from alpaca.data.requests import StockLatestBarRequest, StockBarsRequest\n",
    "from alpaca.data.historical import StockHistoricalDataClient\n",
    "\n",
    "from bars import Bars\n",
    "\n",
    "apikey = \"PKKJZYB9P6Q36H84YMXF\"\n",
    "secretkey = \"hBnEAEiD1f67p6hM4DKkUBtixY01YulNWSuGHOyx\"\n",
    "\n",
    "trading_client = TradingClient(apikey, secretkey, paper=True)\n",
    "\n",
    "\n",
    "def get_clock():\n",
    "    global trading_client\n",
    "    clock = trading_client.get(\"/clock\")\n",
    "    return clock\n",
    "\n",
    "\n",
    "def get_datetime_aware() -> datetime:\n",
    "    clock = get_clock()\n",
    "    timestamp = clock[\"timestamp\"]\n",
    "    dt = iso8601.parse_date(timestamp)\n",
    "    return dt\n",
    "\n",
    "\n",
    "def get_datetime_tz(timezone) -> datetime:\n",
    "    dt = get_datetime_aware()\n",
    "    return dt.astimezone(timezone)\n",
    "\n",
    "\n",
    "def get_datetime_eastern() -> datetime:\n",
    "    return get_datetime_tz(pytz.timezone(\"US/Eastern\"))\n",
    "\n",
    "\n",
    "def get_datetime_utc() -> datetime:\n",
    "    return get_datetime_tz(pytz.timezone(\"UTC\"))\n",
    "\n",
    "def wait_for_market_open():\n",
    "    while True:\n",
    "        c = get_clock()\n",
    "        if c[\"is_open\"]:\n",
    "            print(\"Market Open\")\n",
    "            return True\n",
    "        print(\"is_open\", c[\"is_open\"])\n",
    "        time_now = iso8601.parse_date(c[\"timestamp\"])\n",
    "        print(\"time_now\", time_now)\n",
    "        next_open = iso8601.parse_date(c[\"next_open\"])\n",
    "        print(\"next_open\", next_open)\n",
    "        seconds_to_open = (next_open - time_now).seconds\n",
    "        print(\"seconds_to_open\", seconds_to_open)\n",
    "        if seconds_to_open < 3600:\n",
    "            print(\"waiting for\", seconds_to_open, \"seconds\")\n",
    "            sleep(seconds_to_open)\n",
    "        else:\n",
    "            print(seconds_to_open, \"seconds is too long to wait for open\")\n",
    "            return False\n"
   ]
  },
  {
   "cell_type": "code",
   "execution_count": 5,
   "outputs": [
    {
     "data": {
      "text/plain": "{'timestamp': '2022-09-26T21:20:16.853632689-04:00',\n 'is_open': False,\n 'next_open': '2022-09-27T09:30:00-04:00',\n 'next_close': '2022-09-27T16:00:00-04:00'}"
     },
     "execution_count": 5,
     "metadata": {},
     "output_type": "execute_result"
    }
   ],
   "source": [
    "get_clock()"
   ],
   "metadata": {
    "collapsed": false
   }
  },
  {
   "cell_type": "code",
   "execution_count": 7,
   "outputs": [
    {
     "name": "stdout",
     "output_type": "stream",
     "text": [
      "is_open False\n",
      "time_now 2022-09-26 21:32:26.034552-04:00\n",
      "next_open 2022-09-27 09:30:00-04:00\n",
      "seconds_to_open 43053\n",
      "43053 seconds is too long to wait for open\n"
     ]
    },
    {
     "data": {
      "text/plain": "False"
     },
     "execution_count": 7,
     "metadata": {},
     "output_type": "execute_result"
    }
   ],
   "source": [
    "wait_for_market_open()"
   ],
   "metadata": {
    "collapsed": false
   }
  },
  {
   "cell_type": "code",
   "execution_count": 10,
   "outputs": [
    {
     "name": "stdout",
     "output_type": "stream",
     "text": [
      "is_open False\n",
      "time_now 2022-09-26 22:02:52.865375-04:00\n",
      "next_open 2022-09-27 09:30:00-04:00\n",
      "seconds_to_open 41227\n",
      "41227 seconds is too long to wait for open\n"
     ]
    }
   ],
   "source": [
    "wait_for_market_open()\n",
    "bars = Bars()"
   ],
   "metadata": {
    "collapsed": false
   }
  },
  {
   "cell_type": "code",
   "execution_count": 5,
   "outputs": [],
   "source": [
    "d = datetime(2022, 9,28)"
   ],
   "metadata": {
    "collapsed": false
   }
  },
  {
   "cell_type": "code",
   "execution_count": 8,
   "outputs": [
    {
     "data": {
      "text/plain": "datetime.datetime(2022, 9, 28, 0, 0)"
     },
     "execution_count": 8,
     "metadata": {},
     "output_type": "execute_result"
    }
   ],
   "source": [
    "d"
   ],
   "metadata": {
    "collapsed": false
   }
  },
  {
   "cell_type": "code",
   "execution_count": 22,
   "outputs": [
    {
     "name": "stdout",
     "output_type": "stream",
     "text": [
      "2022-09-28 14:00:00+00:00\n"
     ]
    }
   ],
   "source": [
    "ds = pytz.timezone(\"US/Eastern\").localize(d.replace(hour=9,minute=30)).astimezone(pytz.utc)\n",
    "de = ds + timedelta(hours=0.5)\n"
   ],
   "metadata": {
    "collapsed": false
   }
  },
  {
   "cell_type": "code",
   "execution_count": 12,
   "outputs": [
    {
     "data": {
      "text/plain": "datetime.datetime(2022, 9, 28, 9, 30, tzinfo=<DstTzInfo 'US/Eastern' EDT-1 day, 20:00:00 DST>)"
     },
     "execution_count": 12,
     "metadata": {},
     "output_type": "execute_result"
    }
   ],
   "source": [
    "de"
   ],
   "metadata": {
    "collapsed": false
   }
  },
  {
   "cell_type": "code",
   "execution_count": 13,
   "outputs": [
    {
     "data": {
      "text/plain": "datetime.datetime(2022, 9, 28, 13, 30, tzinfo=<UTC>)"
     },
     "execution_count": 13,
     "metadata": {},
     "output_type": "execute_result"
    }
   ],
   "source": [
    "de.astimezone(pytz.utc)"
   ],
   "metadata": {
    "collapsed": false
   }
  },
  {
   "cell_type": "code",
   "execution_count": 28,
   "outputs": [],
   "source": [
    "d = datetime(2022, 9,28)\n",
    "start = pytz.timezone(\"US/Eastern\").localize(d.replace(hour=9,minute=30)).astimezone(pytz.utc)\n",
    "end = start + timedelta(hours=0.5)\n",
    "request_params = StockBarsRequest(\n",
    "    symbol_or_symbols='SPY',\n",
    "    timeframe=TimeFrame.Minute,\n",
    "    start=start,\n",
    "    end=end\n",
    ")\n"
   ],
   "metadata": {
    "collapsed": false
   }
  },
  {
   "cell_type": "code",
   "execution_count": null,
   "outputs": [],
   "source": [],
   "metadata": {
    "collapsed": false
   }
  },
  {
   "cell_type": "code",
   "execution_count": 31,
   "outputs": [],
   "source": [
    "stock_hist_client = StockHistoricalDataClient(apikey, secretkey)"
   ],
   "metadata": {
    "collapsed": false
   }
  },
  {
   "cell_type": "code",
   "execution_count": 33,
   "outputs": [],
   "source": [
    "bars = stock_hist_client.get_stock_bars(request_params)['SPY']"
   ],
   "metadata": {
    "collapsed": false
   }
  },
  {
   "cell_type": "code",
   "execution_count": null,
   "outputs": [],
   "source": [],
   "metadata": {
    "collapsed": false
   }
  },
  {
   "cell_type": "code",
   "execution_count": 34,
   "outputs": [
    {
     "data": {
      "text/plain": "31"
     },
     "execution_count": 34,
     "metadata": {},
     "output_type": "execute_result"
    }
   ],
   "source": [
    "len(bars)"
   ],
   "metadata": {
    "collapsed": false
   }
  },
  {
   "cell_type": "code",
   "execution_count": 35,
   "outputs": [
    {
     "data": {
      "text/plain": "{   'close': 364.14,\n    'high': 364.57,\n    'low': 363.74,\n    'open': 364.38,\n    'symbol': 'SPY',\n    'timestamp': datetime.datetime(2022, 9, 28, 13, 30, tzinfo=datetime.timezone.utc),\n    'trade_count': 5192.0,\n    'volume': 580871.0,\n    'vwap': 364.140602}"
     },
     "execution_count": 35,
     "metadata": {},
     "output_type": "execute_result"
    }
   ],
   "source": [
    "bars[0]"
   ],
   "metadata": {
    "collapsed": false
   }
  },
  {
   "cell_type": "code",
   "execution_count": 36,
   "outputs": [
    {
     "data": {
      "text/plain": "{   'close': 365.71,\n    'high': 365.86,\n    'low': 364.305,\n    'open': 364.305,\n    'symbol': 'SPY',\n    'timestamp': datetime.datetime(2022, 9, 28, 14, 0, tzinfo=datetime.timezone.utc),\n    'trade_count': 4430.0,\n    'volume': 544918.0,\n    'vwap': 365.236856}"
     },
     "execution_count": 36,
     "metadata": {},
     "output_type": "execute_result"
    }
   ],
   "source": [
    "bars[-1]"
   ],
   "metadata": {
    "collapsed": false
   }
  },
  {
   "cell_type": "code",
   "execution_count": null,
   "outputs": [],
   "source": [],
   "metadata": {
    "collapsed": false
   }
  }
 ],
 "metadata": {
  "kernelspec": {
   "display_name": "Python 3",
   "language": "python",
   "name": "python3"
  },
  "language_info": {
   "codemirror_mode": {
    "name": "ipython",
    "version": 2
   },
   "file_extension": ".py",
   "mimetype": "text/x-python",
   "name": "python",
   "nbconvert_exporter": "python",
   "pygments_lexer": "ipython2",
   "version": "2.7.6"
  }
 },
 "nbformat": 4,
 "nbformat_minor": 0
}
