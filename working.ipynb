{
 "cells": [
  {
   "cell_type": "code",
   "execution_count": 9,
   "metadata": {
    "collapsed": true
   },
   "outputs": [],
   "source": [
    "import pandas as pd\n",
    "import iso8601\n",
    "import pytz\n",
    "from datetime import datetime\n",
    "from time import sleep\n",
    "\n",
    "from alpaca.trading.client import TradingClient\n",
    "from alpaca.trading.requests import MarketOrderRequest, GetOrdersRequest, GetOrderByIdRequest\n",
    "from alpaca.trading.enums import OrderSide, OrderStatus, TimeInForce\n",
    "\n",
    "from bars import Bars\n",
    "\n",
    "apikey = \"PKKJZYB9P6Q36H84YMXF\"\n",
    "secretkey = \"hBnEAEiD1f67p6hM4DKkUBtixY01YulNWSuGHOyx\"\n",
    "\n",
    "trading_client = TradingClient(apikey, secretkey, paper=True)\n",
    "\n",
    "\n",
    "def get_clock():\n",
    "    global trading_client\n",
    "    clock = trading_client.get(\"/clock\")\n",
    "    return clock\n",
    "\n",
    "\n",
    "def get_datetime_aware() -> datetime:\n",
    "    clock = get_clock()\n",
    "    timestamp = clock[\"timestamp\"]\n",
    "    dt = iso8601.parse_date(timestamp)\n",
    "    return dt\n",
    "\n",
    "\n",
    "def get_datetime_tz(timezone) -> datetime:\n",
    "    dt = get_datetime_aware()\n",
    "    return dt.astimezone(timezone)\n",
    "\n",
    "\n",
    "def get_datetime_eastern() -> datetime:\n",
    "    return get_datetime_tz(pytz.timezone(\"US/Eastern\"))\n",
    "\n",
    "\n",
    "def get_datetime_utc() -> datetime:\n",
    "    return get_datetime_tz(pytz.timezone(\"UTC\"))\n",
    "\n",
    "def wait_for_market_open():\n",
    "    while True:\n",
    "        c = get_clock()\n",
    "        if c[\"is_open\"]:\n",
    "            print(\"Market Open\")\n",
    "            return True\n",
    "        print(\"is_open\", c[\"is_open\"])\n",
    "        time_now = iso8601.parse_date(c[\"timestamp\"])\n",
    "        print(\"time_now\", time_now)\n",
    "        next_open = iso8601.parse_date(c[\"next_open\"])\n",
    "        print(\"next_open\", next_open)\n",
    "        seconds_to_open = (next_open - time_now).seconds\n",
    "        print(\"seconds_to_open\", seconds_to_open)\n",
    "        if seconds_to_open < 3600:\n",
    "            print(\"waiting for\", seconds_to_open, \"seconds\")\n",
    "            sleep(seconds_to_open)\n",
    "        else:\n",
    "            print(seconds_to_open, \"seconds is too long to wait for open\")\n",
    "            return False\n"
   ]
  },
  {
   "cell_type": "code",
   "execution_count": 5,
   "outputs": [
    {
     "data": {
      "text/plain": "{'timestamp': '2022-09-26T21:20:16.853632689-04:00',\n 'is_open': False,\n 'next_open': '2022-09-27T09:30:00-04:00',\n 'next_close': '2022-09-27T16:00:00-04:00'}"
     },
     "execution_count": 5,
     "metadata": {},
     "output_type": "execute_result"
    }
   ],
   "source": [
    "get_clock()"
   ],
   "metadata": {
    "collapsed": false
   }
  },
  {
   "cell_type": "code",
   "execution_count": 7,
   "outputs": [
    {
     "name": "stdout",
     "output_type": "stream",
     "text": [
      "is_open False\n",
      "time_now 2022-09-26 21:32:26.034552-04:00\n",
      "next_open 2022-09-27 09:30:00-04:00\n",
      "seconds_to_open 43053\n",
      "43053 seconds is too long to wait for open\n"
     ]
    },
    {
     "data": {
      "text/plain": "False"
     },
     "execution_count": 7,
     "metadata": {},
     "output_type": "execute_result"
    }
   ],
   "source": [
    "wait_for_market_open()"
   ],
   "metadata": {
    "collapsed": false
   }
  },
  {
   "cell_type": "code",
   "execution_count": 10,
   "outputs": [
    {
     "name": "stdout",
     "output_type": "stream",
     "text": [
      "is_open False\n",
      "time_now 2022-09-26 22:02:52.865375-04:00\n",
      "next_open 2022-09-27 09:30:00-04:00\n",
      "seconds_to_open 41227\n",
      "41227 seconds is too long to wait for open\n"
     ]
    }
   ],
   "source": [
    "wait_for_market_open()\n",
    "bars = Bars()"
   ],
   "metadata": {
    "collapsed": false
   }
  },
  {
   "cell_type": "code",
   "execution_count": null,
   "outputs": [],
   "source": [],
   "metadata": {
    "collapsed": false
   }
  }
 ],
 "metadata": {
  "kernelspec": {
   "display_name": "Python 3",
   "language": "python",
   "name": "python3"
  },
  "language_info": {
   "codemirror_mode": {
    "name": "ipython",
    "version": 2
   },
   "file_extension": ".py",
   "mimetype": "text/x-python",
   "name": "python",
   "nbconvert_exporter": "python",
   "pygments_lexer": "ipython2",
   "version": "2.7.6"
  }
 },
 "nbformat": 4,
 "nbformat_minor": 0
}
